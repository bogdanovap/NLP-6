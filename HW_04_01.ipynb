{
 "cells": [
  {
   "cell_type": "code",
   "execution_count": 1,
   "outputs": [],
   "source": [
    "import json\n",
    "\n",
    "import bz2\n",
    "import regex\n",
    "from tqdm import tqdm\n",
    "from scipy import sparse"
   ],
   "metadata": {
    "collapsed": false
   }
  },
  {
   "cell_type": "code",
   "execution_count": 2,
   "outputs": [
    {
     "name": "stdout",
     "output_type": "stream",
     "text": [
      "%pylab is deprecated, use %matplotlib inline and import the required libraries.\n",
      "Populating the interactive namespace from numpy and matplotlib\n"
     ]
    }
   ],
   "source": [
    "import pandas as pd\n",
    "import numpy as np\n",
    "import nltk\n",
    "import matplotlib.pyplot as plt\n",
    "import seaborn as sns\n",
    "%matplotlib inline\n",
    "%pylab inline"
   ],
   "metadata": {
    "collapsed": false
   }
  },
  {
   "cell_type": "code",
   "execution_count": 3,
   "outputs": [
    {
     "name": "stderr",
     "output_type": "stream",
     "text": [
      "201030it [00:59, 3391.51it/s]\n"
     ]
    }
   ],
   "source": [
    "responses = []\n",
    "with bz2.BZ2File('banki_responses.json.bz2', 'r') as thefile:\n",
    "    for row in tqdm(thefile):\n",
    "        resp = json.loads(row)\n",
    "        if not resp['rating_not_checked'] and (len(resp['text'].split()) > 0):\n",
    "            responses.append(resp)"
   ],
   "metadata": {
    "collapsed": false
   }
  },
  {
   "cell_type": "code",
   "execution_count": 5,
   "outputs": [
    {
     "data": {
      "text/plain": "{'city': 'г. Саратов',\n 'rating_not_checked': False,\n 'title': 'Карта ко вкладу',\n 'num_comments': 0,\n 'bank_license': 'лицензия № 880',\n 'author': 'ronnichka',\n 'bank_name': 'Югра',\n 'datetime': '2015-06-03 20:56:57',\n 'text': 'Здравствуйте! Хотела написать, что мне месяц не выдают карту ко вкладу, ссылаясь на \"нам же их из Самары везут\" (на секундочку 5 часов езды от нашего города). Но! Прочитала, что людям 3,5 месяцев не выдают карту, и поняла, что у меня все хорошо, пока что. И подарок мне дали, и кулер в отделении есть. Так что я, конечно, готова ждать. Правда хотелось бы не очень долго.',\n 'rating_grade': 3}"
     },
     "execution_count": 5,
     "metadata": {},
     "output_type": "execute_result"
    }
   ],
   "source": [
    "responses[99]"
   ],
   "metadata": {
    "collapsed": false
   }
  },
  {
   "cell_type": "code",
   "execution_count": 114,
   "outputs": [
    {
     "data": {
      "text/plain": "             city  rating_not_checked  \\\n0       г. Москва               False   \n1  г. Новосибирск               False   \n2       г. Москва               False   \n3   г. Ставрополь               False   \n4    г. Челябинск               False   \n\n                                               title  num_comments  \\\n0                                             Жалоба             0   \n1      Не могу пользоваться услугой Сбербанк он-лайн             0   \n2                    Двойное списание за один товар.             1   \n3  Меняют проценты комиссии  не предупредив и не ...             2   \n4             Верните денежные средства за страховку             1   \n\n      bank_license       author        bank_name             datetime  \\\n0  лицензия № 2562       uhnov1          Бинбанк  2015-06-08 12:50:54   \n1  лицензия № 1481       Foryou  Сбербанк России  2015-06-08 11:09:57   \n2  лицензия № 2562   Vladimir84          Бинбанк  2015-06-05 20:14:28   \n3  лицензия № 1481       643609  Сбербанк России  2015-06-05 13:51:01   \n4  лицензия № 2766  anfisa-2003         ОТП Банк  2015-06-05 10:58:12   \n\n                                                text  rating_grade  \n0  Добрый день! Я не являюсь клиентом банка и пор...           NaN  \n1  Доброго дня! Являюсь держателем зарплатной кар...           NaN  \n2  Здравствуйте!  Дублирую свое заявление от 03.0...           NaN  \n3  Добрый день!! Я открыл расчетный счет в СберБа...           NaN  \n4  04.03.2015 г. взяла кредит в вашем банке, заяв...           NaN  ",
      "text/html": "<div>\n<style scoped>\n    .dataframe tbody tr th:only-of-type {\n        vertical-align: middle;\n    }\n\n    .dataframe tbody tr th {\n        vertical-align: top;\n    }\n\n    .dataframe thead th {\n        text-align: right;\n    }\n</style>\n<table border=\"1\" class=\"dataframe\">\n  <thead>\n    <tr style=\"text-align: right;\">\n      <th></th>\n      <th>city</th>\n      <th>rating_not_checked</th>\n      <th>title</th>\n      <th>num_comments</th>\n      <th>bank_license</th>\n      <th>author</th>\n      <th>bank_name</th>\n      <th>datetime</th>\n      <th>text</th>\n      <th>rating_grade</th>\n    </tr>\n  </thead>\n  <tbody>\n    <tr>\n      <th>0</th>\n      <td>г. Москва</td>\n      <td>False</td>\n      <td>Жалоба</td>\n      <td>0</td>\n      <td>лицензия № 2562</td>\n      <td>uhnov1</td>\n      <td>Бинбанк</td>\n      <td>2015-06-08 12:50:54</td>\n      <td>Добрый день! Я не являюсь клиентом банка и пор...</td>\n      <td>NaN</td>\n    </tr>\n    <tr>\n      <th>1</th>\n      <td>г. Новосибирск</td>\n      <td>False</td>\n      <td>Не могу пользоваться услугой Сбербанк он-лайн</td>\n      <td>0</td>\n      <td>лицензия № 1481</td>\n      <td>Foryou</td>\n      <td>Сбербанк России</td>\n      <td>2015-06-08 11:09:57</td>\n      <td>Доброго дня! Являюсь держателем зарплатной кар...</td>\n      <td>NaN</td>\n    </tr>\n    <tr>\n      <th>2</th>\n      <td>г. Москва</td>\n      <td>False</td>\n      <td>Двойное списание за один товар.</td>\n      <td>1</td>\n      <td>лицензия № 2562</td>\n      <td>Vladimir84</td>\n      <td>Бинбанк</td>\n      <td>2015-06-05 20:14:28</td>\n      <td>Здравствуйте!  Дублирую свое заявление от 03.0...</td>\n      <td>NaN</td>\n    </tr>\n    <tr>\n      <th>3</th>\n      <td>г. Ставрополь</td>\n      <td>False</td>\n      <td>Меняют проценты комиссии  не предупредив и не ...</td>\n      <td>2</td>\n      <td>лицензия № 1481</td>\n      <td>643609</td>\n      <td>Сбербанк России</td>\n      <td>2015-06-05 13:51:01</td>\n      <td>Добрый день!! Я открыл расчетный счет в СберБа...</td>\n      <td>NaN</td>\n    </tr>\n    <tr>\n      <th>4</th>\n      <td>г. Челябинск</td>\n      <td>False</td>\n      <td>Верните денежные средства за страховку</td>\n      <td>1</td>\n      <td>лицензия № 2766</td>\n      <td>anfisa-2003</td>\n      <td>ОТП Банк</td>\n      <td>2015-06-05 10:58:12</td>\n      <td>04.03.2015 г. взяла кредит в вашем банке, заяв...</td>\n      <td>NaN</td>\n    </tr>\n  </tbody>\n</table>\n</div>"
     },
     "execution_count": 114,
     "metadata": {},
     "output_type": "execute_result"
    }
   ],
   "source": [
    "df = pd.DataFrame(responses)\n",
    "df.head()"
   ],
   "metadata": {
    "collapsed": false
   }
  },
  {
   "cell_type": "markdown",
   "source": [
    "### Часть 1. Анализ текстов"
   ],
   "metadata": {
    "collapsed": false
   }
  },
  {
   "cell_type": "markdown",
   "source": [
    "1. Посчитайте количество отзывов в разных городах и на разные банки"
   ],
   "metadata": {
    "collapsed": false
   }
  },
  {
   "cell_type": "code",
   "execution_count": 32,
   "outputs": [
    {
     "name": "stdout",
     "output_type": "stream",
     "text": [
      "                                  num_comments\n",
      "city                                          \n",
      "г. Москва                                55354\n",
      "г. Санкт-Петербург                       14342\n",
      "г. Екатеринбург                           2337\n",
      "г. Новосибирск                            2300\n",
      "г. Нижний Новгород                        1976\n",
      "...                                        ...\n",
      "г. Москва, Ногинск (Москва)                  1\n",
      "г. Москва, Новосибирск                       1\n",
      "г. Москва, Николоямская ул., 31              1\n",
      "г. Москва, Московская область                1\n",
      "г. … или другой населенный пункт             1\n",
      "\n",
      "[5823 rows x 1 columns]\n"
     ]
    }
   ],
   "source": [
    "# pivot = pd.crosstab(df.city, df.bank_name)\n",
    "# количество отзывов в разных городах\n",
    "cities = df.groupby(['city']).agg({\"num_comments\": len}).sort_values(\"num_comments\", ascending=False)\n",
    "print(cities)"
   ],
   "metadata": {
    "collapsed": false
   }
  },
  {
   "cell_type": "code",
   "execution_count": 31,
   "outputs": [
    {
     "name": "stdout",
     "output_type": "stream",
     "text": [
      "                        num_comments\n",
      "bank_name                           \n",
      "Сбербанк России                26327\n",
      "Альфа-Банк                     10224\n",
      "ВТБ 24                          8185\n",
      "Русский Стандарт                7943\n",
      "Хоум Кредит Банк                7549\n",
      "...                              ...\n",
      "Северный Народный Банк             1\n",
      "Сельмашбанк                        1\n",
      "Сиббизнесбанк                      1\n",
      "Сибконтакт                         1\n",
      "Мигом                              1\n",
      "\n",
      "[670 rows x 1 columns]\n"
     ]
    }
   ],
   "source": [
    "# количество отзывов на разные банки\n",
    "banks = df.groupby(['bank_name']).agg({\"num_comments\": len}).sort_values(\"num_comments\", ascending=False)\n",
    "print(banks)"
   ],
   "metadata": {
    "collapsed": false
   }
  },
  {
   "cell_type": "markdown",
   "source": [
    "2. Постройте гистограмы длин слов в символах и в словах"
   ],
   "metadata": {
    "collapsed": false
   }
  },
  {
   "cell_type": "code",
   "execution_count": null,
   "outputs": [],
   "source": [],
   "metadata": {
    "collapsed": false
   }
  },
  {
   "cell_type": "markdown",
   "source": [
    "3. Найдите 10 самых частых:\n",
    "- слов\n",
    "- слов без стоп-слов\n",
    "- лемм\n",
    "- существительных"
   ],
   "metadata": {
    "collapsed": false
   }
  },
  {
   "cell_type": "code",
   "execution_count": 41,
   "outputs": [],
   "source": [
    "from collections import Counter\n",
    "from nltk.tokenize import word_tokenize\n",
    "max_records_to_analyze = 1000"
   ],
   "metadata": {
    "collapsed": false
   }
  },
  {
   "cell_type": "code",
   "execution_count": 42,
   "outputs": [
    {
     "data": {
      "text/plain": "[(',', 16732),\n ('.', 11481),\n ('в', 6183),\n ('и', 5231),\n ('не', 4557),\n ('на', 3491),\n ('что', 3196),\n ('с', 2447),\n ('я', 2368),\n ('по', 2017)]"
     },
     "execution_count": 42,
     "metadata": {},
     "output_type": "execute_result"
    }
   ],
   "source": [
    "# corpus = [token for text in df.text for token in word_tokenize(text)]\n",
    "corpus = []\n",
    "for text in df.text[:max_records_to_analyze]:\n",
    "    for token in word_tokenize(text.lower()):\n",
    "        corpus.append(token)\n",
    "freq_dict = Counter(corpus)\n",
    "freq_dict.most_common(10)"
   ],
   "metadata": {
    "collapsed": false
   }
  },
  {
   "cell_type": "code",
   "execution_count": 45,
   "outputs": [
    {
     "data": {
      "text/plain": "[('банка', 1600),\n ('банк', 1267),\n ('это', 941),\n ('деньги', 629),\n ('карты', 564),\n ('карту', 540),\n ('...', 457),\n ('кредит', 426),\n ('день', 396),\n ('года', 374)]"
     },
     "execution_count": 45,
     "metadata": {},
     "output_type": "execute_result"
    }
   ],
   "source": [
    "from string import punctuation\n",
    "from nltk.corpus import stopwords\n",
    "# import nltk\n",
    "# nltk.download('stopwords')\n",
    "\n",
    "stops  = stopwords.words('russian') + list(punctuation) + [\"``\", \"''\"]\n",
    "\n",
    "corpus = []\n",
    "for text in df.text[:max_records_to_analyze]:\n",
    "    for token in word_tokenize(text.lower()):\n",
    "        if token in stops:\n",
    "            continue\n",
    "        corpus.append(token)\n",
    "freq_dict = Counter(corpus)\n",
    "freq_dict.most_common(10)"
   ],
   "metadata": {
    "collapsed": false
   }
  },
  {
   "cell_type": "code",
   "execution_count": 53,
   "outputs": [
    {
     "data": {
      "text/plain": "[('банк', 3841),\n ('карта', 1787),\n ('это', 1018),\n ('мой', 963),\n ('кредит', 926),\n ('который', 865),\n ('деньга', 840),\n ('день', 826),\n ('вклад', 810),\n ('клиент', 730)]"
     },
     "execution_count": 53,
     "metadata": {},
     "output_type": "execute_result"
    }
   ],
   "source": [
    "# с python 3.11 работает версия pymorphy3\n",
    "from pymorphy3 import MorphAnalyzer\n",
    "morph = MorphAnalyzer()\n",
    "corpus = []\n",
    "for text in df.text[:max_records_to_analyze]:\n",
    "    for token in word_tokenize(text.lower()):\n",
    "        if token in stops:\n",
    "            continue\n",
    "        morph_form = morph.parse(token)[0]\n",
    "        lemma = morph_form.normal_form\n",
    "        corpus.append(lemma)\n",
    "freq_dict = Counter(corpus)\n",
    "freq_dict.most_common(10)"
   ],
   "metadata": {
    "collapsed": false
   }
  },
  {
   "cell_type": "code",
   "execution_count": 60,
   "outputs": [
    {
     "data": {
      "text/plain": "[('банк', 3841),\n ('карта', 1787),\n ('кредит', 926),\n ('деньга', 840),\n ('день', 826),\n ('вклад', 810),\n ('клиент', 730),\n ('сотрудник', 720),\n ('счёт', 696),\n ('сумма', 675)]"
     },
     "execution_count": 60,
     "metadata": {},
     "output_type": "execute_result"
    }
   ],
   "source": [
    "corpus = []\n",
    "for text in df.text[:max_records_to_analyze]:\n",
    "    for token in word_tokenize(text.lower()):\n",
    "        if token in stops:\n",
    "            continue\n",
    "        morph_form = morph.parse(token)[0]\n",
    "        if morph_form.tag.POS!='NOUN':\n",
    "            continue\n",
    "        lemma = morph_form.normal_form\n",
    "        corpus.append(lemma)\n",
    "freq_dict = Counter(corpus)\n",
    "freq_dict.most_common(10)"
   ],
   "metadata": {
    "collapsed": false
   }
  },
  {
   "cell_type": "markdown",
   "source": [
    "4. Постройте кривые Ципфа и Хипса"
   ],
   "metadata": {
    "collapsed": false
   }
  },
  {
   "cell_type": "code",
   "execution_count": 61,
   "outputs": [
    {
     "data": {
      "text/plain": "<Figure size 640x480 with 1 Axes>",
      "image/png": "[encoded data removed]"
     },
     "metadata": {},
     "output_type": "display_data"
    }
   ],
   "source": [
    "import matplotlib.pyplot as plt\n",
    "%matplotlib inline\n",
    "\n",
    "freqs = list(freq_dict.values())\n",
    "freqs = sorted(freqs, reverse = True)\n",
    "\n",
    "fig, ax = plt.subplots()\n",
    "ax.plot(freqs[:300], range(300))\n",
    "plt.show()"
   ],
   "metadata": {
    "collapsed": false
   }
  },
  {
   "cell_type": "code",
   "execution_count": 75,
   "outputs": [
    {
     "ename": "TypeError",
     "evalue": "float() argument must be a string or a real number, not 'dict_values'",
     "output_type": "error",
     "traceback": [
      "\u001B[1;31m---------------------------------------------------------------------------\u001B[0m",
      "\u001B[1;31mTypeError\u001B[0m                                 Traceback (most recent call last)",
      "Cell \u001B[1;32mIn[75], line 19\u001B[0m\n\u001B[0;32m     14\u001B[0m     n_tokens\u001B[38;5;241m.\u001B[39mappend(\u001B[38;5;28msum\u001B[39m(cnt\u001B[38;5;241m.\u001B[39mvalues()))\n\u001B[0;32m     18\u001B[0m fig, ax \u001B[38;5;241m=\u001B[39m plt\u001B[38;5;241m.\u001B[39msubplots()\n\u001B[1;32m---> 19\u001B[0m \u001B[43max\u001B[49m\u001B[38;5;241;43m.\u001B[39;49m\u001B[43mplot\u001B[49m\u001B[43m(\u001B[49m\u001B[43mn_tokens\u001B[49m\u001B[43m,\u001B[49m\u001B[43m \u001B[49m\u001B[43mn_words\u001B[49m\u001B[43m)\u001B[49m\n\u001B[0;32m     20\u001B[0m plt\u001B[38;5;241m.\u001B[39mshow()\n",
      "File \u001B[1;32mF:\\Repositiories\\venv_for_ml\\Lib\\site-packages\\matplotlib\\axes\\_axes.py:1670\u001B[0m, in \u001B[0;36mAxes.plot\u001B[1;34m(self, scalex, scaley, data, *args, **kwargs)\u001B[0m\n\u001B[0;32m   1668\u001B[0m lines \u001B[38;5;241m=\u001B[39m [\u001B[38;5;241m*\u001B[39m\u001B[38;5;28mself\u001B[39m\u001B[38;5;241m.\u001B[39m_get_lines(\u001B[38;5;241m*\u001B[39margs, data\u001B[38;5;241m=\u001B[39mdata, \u001B[38;5;241m*\u001B[39m\u001B[38;5;241m*\u001B[39mkwargs)]\n\u001B[0;32m   1669\u001B[0m \u001B[38;5;28;01mfor\u001B[39;00m line \u001B[38;5;129;01min\u001B[39;00m lines:\n\u001B[1;32m-> 1670\u001B[0m     \u001B[38;5;28;43mself\u001B[39;49m\u001B[38;5;241;43m.\u001B[39;49m\u001B[43madd_line\u001B[49m\u001B[43m(\u001B[49m\u001B[43mline\u001B[49m\u001B[43m)\u001B[49m\n\u001B[0;32m   1671\u001B[0m \u001B[38;5;28;01mif\u001B[39;00m scalex:\n\u001B[0;32m   1672\u001B[0m     \u001B[38;5;28mself\u001B[39m\u001B[38;5;241m.\u001B[39m_request_autoscale_view(\u001B[38;5;124m\"\u001B[39m\u001B[38;5;124mx\u001B[39m\u001B[38;5;124m\"\u001B[39m)\n",
      "File \u001B[1;32mF:\\Repositiories\\venv_for_ml\\Lib\\site-packages\\matplotlib\\axes\\_base.py:2333\u001B[0m, in \u001B[0;36m_AxesBase.add_line\u001B[1;34m(self, line)\u001B[0m\n\u001B[0;32m   2330\u001B[0m \u001B[38;5;28;01mif\u001B[39;00m line\u001B[38;5;241m.\u001B[39mget_clip_path() \u001B[38;5;129;01mis\u001B[39;00m \u001B[38;5;28;01mNone\u001B[39;00m:\n\u001B[0;32m   2331\u001B[0m     line\u001B[38;5;241m.\u001B[39mset_clip_path(\u001B[38;5;28mself\u001B[39m\u001B[38;5;241m.\u001B[39mpatch)\n\u001B[1;32m-> 2333\u001B[0m \u001B[38;5;28;43mself\u001B[39;49m\u001B[38;5;241;43m.\u001B[39;49m\u001B[43m_update_line_limits\u001B[49m\u001B[43m(\u001B[49m\u001B[43mline\u001B[49m\u001B[43m)\u001B[49m\n\u001B[0;32m   2334\u001B[0m \u001B[38;5;28;01mif\u001B[39;00m \u001B[38;5;129;01mnot\u001B[39;00m line\u001B[38;5;241m.\u001B[39mget_label():\n\u001B[0;32m   2335\u001B[0m     line\u001B[38;5;241m.\u001B[39mset_label(\u001B[38;5;124mf\u001B[39m\u001B[38;5;124m'\u001B[39m\u001B[38;5;124m_child\u001B[39m\u001B[38;5;132;01m{\u001B[39;00m\u001B[38;5;28mlen\u001B[39m(\u001B[38;5;28mself\u001B[39m\u001B[38;5;241m.\u001B[39m_children)\u001B[38;5;132;01m}\u001B[39;00m\u001B[38;5;124m'\u001B[39m)\n",
      "File \u001B[1;32mF:\\Repositiories\\venv_for_ml\\Lib\\site-packages\\matplotlib\\axes\\_base.py:2356\u001B[0m, in \u001B[0;36m_AxesBase._update_line_limits\u001B[1;34m(self, line)\u001B[0m\n\u001B[0;32m   2352\u001B[0m \u001B[38;5;28;01mdef\u001B[39;00m \u001B[38;5;21m_update_line_limits\u001B[39m(\u001B[38;5;28mself\u001B[39m, line):\n\u001B[0;32m   2353\u001B[0m \u001B[38;5;250m    \u001B[39m\u001B[38;5;124;03m\"\"\"\u001B[39;00m\n\u001B[0;32m   2354\u001B[0m \u001B[38;5;124;03m    Figures out the data limit of the given line, updating self.dataLim.\u001B[39;00m\n\u001B[0;32m   2355\u001B[0m \u001B[38;5;124;03m    \"\"\"\u001B[39;00m\n\u001B[1;32m-> 2356\u001B[0m     path \u001B[38;5;241m=\u001B[39m \u001B[43mline\u001B[49m\u001B[38;5;241;43m.\u001B[39;49m\u001B[43mget_path\u001B[49m\u001B[43m(\u001B[49m\u001B[43m)\u001B[49m\n\u001B[0;32m   2357\u001B[0m     \u001B[38;5;28;01mif\u001B[39;00m path\u001B[38;5;241m.\u001B[39mvertices\u001B[38;5;241m.\u001B[39msize \u001B[38;5;241m==\u001B[39m \u001B[38;5;241m0\u001B[39m:\n\u001B[0;32m   2358\u001B[0m         \u001B[38;5;28;01mreturn\u001B[39;00m\n",
      "File \u001B[1;32mF:\\Repositiories\\venv_for_ml\\Lib\\site-packages\\matplotlib\\lines.py:1031\u001B[0m, in \u001B[0;36mLine2D.get_path\u001B[1;34m(self)\u001B[0m\n\u001B[0;32m   1029\u001B[0m \u001B[38;5;250m\u001B[39m\u001B[38;5;124;03m\"\"\"Return the `~matplotlib.path.Path` associated with this line.\"\"\"\u001B[39;00m\n\u001B[0;32m   1030\u001B[0m \u001B[38;5;28;01mif\u001B[39;00m \u001B[38;5;28mself\u001B[39m\u001B[38;5;241m.\u001B[39m_invalidy \u001B[38;5;129;01mor\u001B[39;00m \u001B[38;5;28mself\u001B[39m\u001B[38;5;241m.\u001B[39m_invalidx:\n\u001B[1;32m-> 1031\u001B[0m     \u001B[38;5;28;43mself\u001B[39;49m\u001B[38;5;241;43m.\u001B[39;49m\u001B[43mrecache\u001B[49m\u001B[43m(\u001B[49m\u001B[43m)\u001B[49m\n\u001B[0;32m   1032\u001B[0m \u001B[38;5;28;01mreturn\u001B[39;00m \u001B[38;5;28mself\u001B[39m\u001B[38;5;241m.\u001B[39m_path\n",
      "File \u001B[1;32mF:\\Repositiories\\venv_for_ml\\Lib\\site-packages\\matplotlib\\lines.py:659\u001B[0m, in \u001B[0;36mLine2D.recache\u001B[1;34m(self, always)\u001B[0m\n\u001B[0;32m    657\u001B[0m \u001B[38;5;28;01mif\u001B[39;00m always \u001B[38;5;129;01mor\u001B[39;00m \u001B[38;5;28mself\u001B[39m\u001B[38;5;241m.\u001B[39m_invalidx:\n\u001B[0;32m    658\u001B[0m     xconv \u001B[38;5;241m=\u001B[39m \u001B[38;5;28mself\u001B[39m\u001B[38;5;241m.\u001B[39mconvert_xunits(\u001B[38;5;28mself\u001B[39m\u001B[38;5;241m.\u001B[39m_xorig)\n\u001B[1;32m--> 659\u001B[0m     x \u001B[38;5;241m=\u001B[39m \u001B[43m_to_unmasked_float_array\u001B[49m\u001B[43m(\u001B[49m\u001B[43mxconv\u001B[49m\u001B[43m)\u001B[49m\u001B[38;5;241m.\u001B[39mravel()\n\u001B[0;32m    660\u001B[0m \u001B[38;5;28;01melse\u001B[39;00m:\n\u001B[0;32m    661\u001B[0m     x \u001B[38;5;241m=\u001B[39m \u001B[38;5;28mself\u001B[39m\u001B[38;5;241m.\u001B[39m_x\n",
      "File \u001B[1;32mF:\\Repositiories\\venv_for_ml\\Lib\\site-packages\\matplotlib\\cbook\\__init__.py:1369\u001B[0m, in \u001B[0;36m_to_unmasked_float_array\u001B[1;34m(x)\u001B[0m\n\u001B[0;32m   1367\u001B[0m     \u001B[38;5;28;01mreturn\u001B[39;00m np\u001B[38;5;241m.\u001B[39mma\u001B[38;5;241m.\u001B[39masarray(x, \u001B[38;5;28mfloat\u001B[39m)\u001B[38;5;241m.\u001B[39mfilled(np\u001B[38;5;241m.\u001B[39mnan)\n\u001B[0;32m   1368\u001B[0m \u001B[38;5;28;01melse\u001B[39;00m:\n\u001B[1;32m-> 1369\u001B[0m     \u001B[38;5;28;01mreturn\u001B[39;00m np\u001B[38;5;241m.\u001B[39masarray(x, \u001B[38;5;28mfloat\u001B[39m)\n",
      "\u001B[1;31mTypeError\u001B[0m: float() argument must be a string or a real number, not 'dict_values'"
     ]
    },
    {
     "data": {
      "text/plain": "<Figure size 640x480 with 1 Axes>",
      "image/png": "[encoded data removed]"
     },
     "metadata": {},
     "output_type": "display_data"
    }
   ],
   "source": [
    "cnt = Counter()\n",
    "n_words = []\n",
    "n_tokens = []\n",
    "tokens = []\n",
    "\n",
    "for text in df.text[:max_records_to_analyze]:\n",
    "    for token in word_tokenize(text.lower()):\n",
    "        if token in stops:\n",
    "            continue\n",
    "        morph_form = morph.parse(token)[0]\n",
    "        lemma = morph_form.normal_form\n",
    "        cnt.update([lemma])\n",
    "    n_words.append(len(cnt))\n",
    "    n_tokens.append(sum(cnt.values()))\n",
    "\n",
    "fig, ax = plt.subplots()\n",
    "ax.plot(n_tokens, n_words)\n",
    "plt.show()"
   ],
   "metadata": {
    "collapsed": false
   }
  },
  {
   "cell_type": "markdown",
   "source": [
    "5. Ответьте на следующие вопросы:\n",
    "- какое слово встречается чаще, \"сотрудник\" или \"клиент\"?\n",
    "- сколько раз встречается слова \"мошенничество\" и \"доверие\"?"
   ],
   "metadata": {
    "collapsed": false
   }
  },
  {
   "cell_type": "code",
   "execution_count": 80,
   "outputs": [
    {
     "name": "stdout",
     "output_type": "stream",
     "text": [
      "'клиент' встречается чаще\n"
     ]
    }
   ],
   "source": [
    "if cnt[\"сотрудник\"] > cnt[\"клиент\"]:\n",
    "    print(\"'сотрудник' встречается чаще\")\n",
    "else:\n",
    "    print(\"'клиент' встречается чаще\")"
   ],
   "metadata": {
    "collapsed": false
   }
  },
  {
   "cell_type": "code",
   "execution_count": 85,
   "outputs": [
    {
     "name": "stdout",
     "output_type": "stream",
     "text": [
      "'мошенничество' встречается 19 раз\n",
      "'доверие' встречается 32 раз\n"
     ]
    }
   ],
   "source": [
    "lemma_1 = morph.parse(\"мошенничество\")[0].normal_form\n",
    "lemma_2 = morph.parse(\"доверие\")[0].normal_form\n",
    "print(f\"'мошенничество' встречается {cnt[lemma_1]} раз\")\n",
    "print(f\"'доверие' встречается {cnt[lemma_2]} раз\")"
   ],
   "metadata": {
    "collapsed": false
   }
  },
  {
   "cell_type": "markdown",
   "source": [
    "6. В поле \"rating_grade\" записана оценка отзыва по шкале от 1 до 5. Используйте меру $tf-idf$, для того, чтобы найти ключевые слова и биграмы для положительных отзывов (с оценкой 5) и отрицательных отзывов (с оценкой 1)"
   ],
   "metadata": {
    "collapsed": false
   }
  },
  {
   "cell_type": "code",
   "execution_count": 93,
   "outputs": [],
   "source": [
    "from sklearn.feature_extraction.text import TfidfVectorizer"
   ],
   "metadata": {
    "collapsed": false
   }
  },
  {
   "cell_type": "code",
   "execution_count": 173,
   "outputs": [],
   "source": [
    "high_scores = df[(df.rating_grade==5)]['text']\n",
    "\n",
    "corpus = []\n",
    "for text in high_scores[:5000]:\n",
    "    new_text = []\n",
    "    for token in word_tokenize(text.lower()):\n",
    "        if token in stops:\n",
    "            continue\n",
    "        lemma = morph.parse(token)[0].normal_form\n",
    "        new_text.append(lemma)\n",
    "    corpus.append(\" \".join(new_text))\n"
   ],
   "metadata": {
    "collapsed": false
   }
  },
  {
   "cell_type": "code",
   "execution_count": 174,
   "outputs": [],
   "source": [
    "tfidf = TfidfVectorizer(ngram_range=(1, 2))\n",
    "vector = tfidf.fit_transform(corpus)"
   ],
   "metadata": {
    "collapsed": false
   }
  },
  {
   "cell_type": "code",
   "execution_count": 175,
   "outputs": [],
   "source": [
    "names = tfidf.get_feature_names_out()\n",
    "data = vector.todense().tolist()\n",
    "df_vector= pd.DataFrame(data, columns=names)"
   ],
   "metadata": {
    "collapsed": false
   }
  },
  {
   "cell_type": "code",
   "execution_count": 176,
   "outputs": [
    {
     "data": {
      "text/plain": "[('карта', 79),\n ('вклад', 66),\n ('сделка', 50),\n ('кредит', 45),\n ('ткс', 43),\n ('банк', 25),\n ('банкомат', 21),\n ('курс', 14),\n ('квартира', 14),\n ('депозит', 13)]"
     },
     "execution_count": 176,
     "metadata": {},
     "output_type": "execute_result"
    }
   ],
   "source": [
    "cnt_top = Counter(df_vector.idxmax(axis=1))\n",
    "cnt_top.most_common(10)"
   ],
   "metadata": {
    "collapsed": false
   }
  },
  {
   "cell_type": "code",
   "execution_count": 177,
   "outputs": [
    {
     "data": {
      "text/plain": "[('карта', 100),\n ('вклад', 64),\n ('страховка', 50),\n ('банкомат', 39),\n ('заявка', 31),\n ('терминал', 30),\n ('кредит', 23),\n ('справка', 22),\n ('страхование', 20),\n ('комиссия', 20)]"
     },
     "execution_count": 177,
     "metadata": {},
     "output_type": "execute_result"
    }
   ],
   "source": [
    "low_scores = df[(df.rating_grade==1)]['text']\n",
    "\n",
    "corpus = []\n",
    "for text in low_scores[:5000]:\n",
    "    new_text = []\n",
    "    for token in word_tokenize(text.lower()):\n",
    "        if token in stops:\n",
    "            continue\n",
    "        lemma = morph.parse(token)[0].normal_form\n",
    "        new_text.append(lemma)\n",
    "    corpus.append(\" \".join(new_text))\n",
    "\n",
    "tfidf = TfidfVectorizer(ngram_range=(1, 2))\n",
    "vector = tfidf.fit_transform(corpus)\n",
    "\n",
    "names = tfidf.get_feature_names_out()\n",
    "data = vector.todense().tolist()\n",
    "df_vector= pd.DataFrame(data, columns=names)\n",
    "\n",
    "cnt_top = Counter(df_vector.idxmax(axis=1))\n",
    "cnt_top.most_common(10)"
   ],
   "metadata": {
    "collapsed": false
   }
  },
  {
   "cell_type": "markdown",
   "source": [
    "### Часть 2. Тематическое моделирование\n",
    "1. Постройте несколько тематических моделей коллекции документов с разным числом тем. Приведите примеры понятных (интерпретируемых) тем.\n",
    "2. Найдите темы, в которых упомянуты конкретные банки (Сбербанк, ВТБ, другой банк). Можете ли вы их прокомментировать / объяснить?\n",
    "Эта часть задания может быть сделана с использованием gensim."
   ],
   "metadata": {
    "collapsed": false
   }
  },
  {
   "cell_type": "code",
   "execution_count": 179,
   "outputs": [
    {
     "ename": "TypeError",
     "evalue": "'TfidfVectorizer' object is not subscriptable",
     "output_type": "error",
     "traceback": [
      "\u001B[1;31m---------------------------------------------------------------------------\u001B[0m",
      "\u001B[1;31mTypeError\u001B[0m                                 Traceback (most recent call last)",
      "Cell \u001B[1;32mIn[179], line 1\u001B[0m\n\u001B[1;32m----> 1\u001B[0m \u001B[43mtfidf\u001B[49m\u001B[43m[\u001B[49m\u001B[43mcorpus\u001B[49m\u001B[43m]\u001B[49m\n",
      "\u001B[1;31mTypeError\u001B[0m: 'TfidfVectorizer' object is not subscriptable"
     ]
    }
   ],
   "source": [],
   "metadata": {
    "collapsed": false
   }
  },
  {
   "cell_type": "code",
   "execution_count": null,
   "outputs": [],
   "source": [],
   "metadata": {
    "collapsed": false
   }
  },
  {
   "cell_type": "code",
   "execution_count": null,
   "outputs": [],
   "source": [],
   "metadata": {
    "collapsed": false
   }
  },
  {
   "cell_type": "code",
   "execution_count": null,
   "outputs": [],
   "source": [],
   "metadata": {
    "collapsed": false
   }
  },
  {
   "cell_type": "code",
   "execution_count": null,
   "outputs": [],
   "source": [],
   "metadata": {
    "collapsed": false
   }
  },
  {
   "cell_type": "code",
   "execution_count": null,
   "outputs": [],
   "source": [],
   "metadata": {
    "collapsed": false
   }
  }
 ],
 "metadata": {
  "kernelspec": {
   "display_name": "Python 3",
   "language": "python",
   "name": "python3"
  },
  "language_info": {
   "codemirror_mode": {
    "name": "ipython",
    "version": 2
   },
   "file_extension": ".py",
   "mimetype": "text/x-python",
   "name": "python",
   "nbconvert_exporter": "python",
   "pygments_lexer": "ipython2",
   "version": "2.7.6"
  }
 },
 "nbformat": 4,
 "nbformat_minor": 0
}
